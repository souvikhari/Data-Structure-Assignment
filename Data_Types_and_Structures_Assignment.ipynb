{
  "nbformat": 4,
  "nbformat_minor": 0,
  "metadata": {
    "colab": {
      "provenance": []
    },
    "kernelspec": {
      "name": "python3",
      "display_name": "Python 3"
    },
    "language_info": {
      "name": "python"
    }
  },
  "cells": [
    {
      "cell_type": "markdown",
      "source": [
        "#Data Types and Structures Questions"
      ],
      "metadata": {
        "id": "XKT0flb58d4c"
      }
    },
    {
      "cell_type": "markdown",
      "source": [
        "1.  What are data structures, and why are they important?\n",
        "    -   Data structures in Python are specialized formats for organizing, storing, and managing data efficiently within a Python program. They help in performing operations like insertion, deletion, searching, and sorting in an optimized way.\n",
        "        \n",
        "        Improtance of data structures-\n",
        "\n",
        "        A- Different problems require different ways of organizing data, which data structures facilitate.\n",
        "\n",
        "        B- Data structures are used in machine learning, web development, databases, artificial intelligence, and more.\n",
        "\n",
        "        C- Choosing the right data structure enhances the speed and efficiency of algorithms.\n",
        "\n",
        "        D- Many algorithms, such as sorting and searching, rely on data structures for optimal performance.\n",
        "\n",
        "\n",
        " 2.  Explain the difference between mutable and immutable data types with\n",
        "     examples.\n",
        "     -       In Python, mutable and immutable data types determine whether an object can be modified after creation. Mutable data types can be changed after creation, while immutable data types cannot. Examples of Mutable data types include lists, dictionaries, and sets. Examples of Immutable data types include strings, tuples, numbers, booleans, null, and undefined.\n",
        "\n",
        "\n",
        "  3. What are the main differences between lists and tuples in Python?\n",
        "     - A - Lists are mutable but tuples are immutable\n",
        "\n",
        "       B - The list is better for performing operations, such as insertion and deletion.Tuple data type is appropriate for accessing the elements.\n",
        "\n",
        "       C - Lists consume more memory. Tuple consumes less memory as compared to the list\n",
        "\n",
        "       D - Lists have several built-in methods. Tuple does not have many built-in methods.\n",
        "\n",
        "\n",
        " 4. Describe how dictionaries store data.\n",
        "    - Python dictionaries are implemented as hash tables:\n",
        "\n",
        " When a key is added, Python applies a hash function (hash()) to generate an integer (hash code). The hash code determines an index in an internal array (bucket). The key and its corresponding value are stored at the computed index.      \n",
        "\n",
        " 5. Why might you use a set instead of a list in Python?\n",
        "    - The Python sets are highly useful to efficiently remove duplicate values from a collection like a list and to perform common math operations like unions and intersections.\n",
        "\n",
        " 6. What is a string in Python, and how is it different from a list?\n",
        "    - A string is a sequence of characters between single or double quotes. Strings are immutable, meaning their values cannot be changed, while lists are mutable, meaning they can be changed.\n",
        "\n",
        " 7.  How do tuples ensure data integrity in Python?\n",
        "     - Tuples are immutable to ensure that their contents remain constant throughout their lifecycle, guaranteeing data integrity and reliability. This immutability allows tuples to be used as keys in dictionaries and elements in sets, as they can be hashed.\n",
        "\n",
        " 8. What is a hash table, and how does it relate to dictionaries in Python?\n",
        "    - In Python, a hash table is a data structure that's implemented as a dictionary. The built-in dict() function in Python creates dictionaries\n",
        "The keys in a dictionary are hashable, meaning they can be used to generate a unique index value.\n",
        "\n",
        "\n",
        "9. Can lists contain different data types in Python?\n",
        "   - Yes. list can contain different data types including strings, floats, and booleans.\n",
        "\n",
        "          \n",
        "10. Explain why strings are immutable in Python.\n",
        "    - A - Python interns short and frequently used strings, meaning they are stored in a single memory location and reused to save memory.\n",
        "\n",
        "      B - If strings were mutable, their hash values would change, making dictionary lookups unreliable.\n",
        "\n",
        "      C - In some cases, immutability prevents accidental data manipulation\n",
        "\n",
        "11. What advantages do dictionaries offer over lists for certain tasks?\n",
        "    - Dictionaries use hash tables, allowing O(1) time complexity for key lookups. Lists store individual values, but dictionaries map keys to values, making data more structured. Dictionaries allow descriptive keys, making the code more readable.Lists allow duplicates, while dictionaries overwrite duplicate keys, ensuring uniqueness.\n",
        "\n",
        "12. Describe a scenario where using a tuple would be preferable over a list.\n",
        "    - In a mapping application where we need to store latitude and longitude coordinates. These values should never change once they are set. In this scenario tuple would be preferable over a list.\n",
        "\n",
        "13. How do sets handle duplicate values in Python?\n",
        "    - In Python, the set data type does not allow duplicates. A set is an unordered collection of unique elements, and any element that is added to a set will only be added if it is not already present in the set.\n",
        "\n",
        "14. How does the “in” keyword work differently for lists and dictionaries?\n",
        "    - For lists, it uses a search algorithm. As the list gets longer, the search time gets longer in direct proportion. For dictionaries, Python uses an algorithm called a hashtable that has a remarkable property: the in operator takes about the same amount of time no matter how many items there are in a dictionary.\n",
        "\n",
        "15. Can you modify the elements of a tuple? Explain why or why not.\n",
        "    - the elements of a tuple cannot modified in Python because tuples are immutable.\n",
        "\n",
        "16. What is a nested dictionary, and give an example of its use case?\n",
        "    - A nested dictionary is a dictionary inside another dictionary. It allows hierarchical data storage, where each key can have another dictionary as its value. Example- A company might store employee data using a nested dictionary for better organization.\n",
        "\n",
        "17. Describe the time complexity of accessing elements in a dictionary.\n",
        "    - The time complexity of accessing an element in a dictionary is O(1) on average. Python dictionaries use hash tables, making access to elements fast and efficient. Average Case O(1) → Dictionary lookups are constant time because keys are hashed, allowing direct access. Worst Case O(n) → In rare cases, hash collisions may occur, requiring a search through multiple values at the same index.\n",
        "\n",
        "18. In what situations are lists preferred over dictionaries?\n",
        "    - For ordered collections and sequence operations, such as maintaining a stack or queue, lists are more suitable.\n",
        "\n",
        "19. Why are dictionaries considered unordered, and how does that affect data retrieval?\n",
        "   - Dictionaries are considered unordered because they do not maintain any inherent order of their key-value pairs when storing data, meaning the sequence in which you added items is not guaranteed to be the same when you retrieve them. This prioritizes fast access to data based on the unique \"key\" rather than the position in the collection, making data retrieval efficient for lookups but potentially unpredictable when iterating through the dictionary in a specific order.\n",
        "\n",
        "20. Explain the difference between a list and a dictionary in terms of data retrieval.\n",
        "     - In Python, lists and dictionaries differ significantly in terms of data retrieval. A list is an ordered collection where elements are accessed using index positions list. This allows for fast retrieval when using an index, but searching for a specific value without knowing its index takes O(n) time since the entire list may need to be scanned. On the other hand, a dictionary is an unordered collection that stores data in key-value pairs, enabling fast lookups using a hash table. Unlike lists, dictionaries do not support index-based access, meaning elements must be retrieved using their unique keys. Overall, lists are preferable when sequential access or indexed retrieval is required, while dictionaries are ideal for scenarios requiring quick lookups, unique key-value mappings, and structured data storage.\n",
        "\n",
        "                 \n",
        "     "
      ],
      "metadata": {
        "id": "9rwUS713rxZU"
      }
    },
    {
      "cell_type": "markdown",
      "source": [
        "#Practical Questions"
      ],
      "metadata": {
        "id": "B2D6CG8t8QPb"
      }
    },
    {
      "cell_type": "markdown",
      "source": [
        "1. Write a code to create a string with your name and print it."
      ],
      "metadata": {
        "id": "LyaIeJFnTnmQ"
      }
    },
    {
      "cell_type": "code",
      "source": [
        "my_name = \"Souvik\"\n",
        "\n",
        "print(\"My name is:\", my_name)\n"
      ],
      "metadata": {
        "id": "ZryslM168oZ8",
        "colab": {
          "base_uri": "https://localhost:8080/"
        },
        "outputId": "f12369ab-7421-4b91-ba32-a8f436ea7b9a"
      },
      "execution_count": null,
      "outputs": [
        {
          "output_type": "stream",
          "name": "stdout",
          "text": [
            "My name is: Souvik\n"
          ]
        }
      ]
    },
    {
      "cell_type": "markdown",
      "source": [
        "2. Write a code to find the length of the string \"Hello World\"."
      ],
      "metadata": {
        "id": "brWZR5k6UHEZ"
      }
    },
    {
      "cell_type": "code",
      "source": [
        "text = \"Hello World\"\n",
        "length = len(text)\n",
        "print(\"Length of the string:\", length)\n"
      ],
      "metadata": {
        "colab": {
          "base_uri": "https://localhost:8080/"
        },
        "id": "ZyK3R5XcUKOY",
        "outputId": "89642383-3166-4d2e-8ba6-5d90e11fa157"
      },
      "execution_count": null,
      "outputs": [
        {
          "output_type": "stream",
          "name": "stdout",
          "text": [
            "Length of the string: 11\n"
          ]
        }
      ]
    },
    {
      "cell_type": "markdown",
      "source": [
        "3. Write a code to slice the first 3 characters from the string \"Python Programming\"."
      ],
      "metadata": {
        "id": "9A7ln4XyUbSo"
      }
    },
    {
      "cell_type": "code",
      "source": [
        "text = \"Python Programming\"\n",
        "\n",
        "sliced_text = text[:3]\n",
        "\n",
        "print(\"Sliced string:\", sliced_text)\n"
      ],
      "metadata": {
        "colab": {
          "base_uri": "https://localhost:8080/"
        },
        "id": "2yL3ki45Uew4",
        "outputId": "7f869cb7-bd28-4ae8-d60f-a31c614b8d12"
      },
      "execution_count": null,
      "outputs": [
        {
          "output_type": "stream",
          "name": "stdout",
          "text": [
            "Sliced string: Pyt\n"
          ]
        }
      ]
    },
    {
      "cell_type": "markdown",
      "source": [
        "4.  Write a code to convert the string \"hello\" to uppercase."
      ],
      "metadata": {
        "id": "0eVwmo81Upux"
      }
    },
    {
      "cell_type": "code",
      "source": [
        "text = \"hello\"\n",
        "\n",
        "uppercase_text = text.upper()\n",
        "\n",
        "print(\"Uppercase string:\", uppercase_text)\n"
      ],
      "metadata": {
        "colab": {
          "base_uri": "https://localhost:8080/"
        },
        "id": "B9VLb0zQUthA",
        "outputId": "0b9130af-8a6a-469c-c6a9-11de2e149ad2"
      },
      "execution_count": null,
      "outputs": [
        {
          "output_type": "stream",
          "name": "stdout",
          "text": [
            "Uppercase string: HELLO\n"
          ]
        }
      ]
    },
    {
      "cell_type": "markdown",
      "source": [
        "5. Write a code to replace the word \"apple\" with \"orange\" in the string \"I like apple\"."
      ],
      "metadata": {
        "id": "ySg7iU_BU2zQ"
      }
    },
    {
      "cell_type": "code",
      "source": [
        "text = \"I like apple\"\n",
        "\n",
        "new_text = text.replace(\"apple\", \"orange\")\n",
        "\n",
        "print(new_text)\n"
      ],
      "metadata": {
        "colab": {
          "base_uri": "https://localhost:8080/"
        },
        "id": "mc5cIWcCU5TY",
        "outputId": "0ee96ff6-b210-478c-8769-e7b1ef9013e8"
      },
      "execution_count": null,
      "outputs": [
        {
          "output_type": "stream",
          "name": "stdout",
          "text": [
            "I like orange\n"
          ]
        }
      ]
    },
    {
      "cell_type": "markdown",
      "source": [
        "6. Write a code to create a list with numbers 1 to 5 and print it."
      ],
      "metadata": {
        "id": "jiRicHMqVKLJ"
      }
    },
    {
      "cell_type": "code",
      "source": [
        "numbers = [1, 2, 3, 4, 5]\n",
        "\n",
        "print(\"List of numbers:\", numbers)\n"
      ],
      "metadata": {
        "colab": {
          "base_uri": "https://localhost:8080/"
        },
        "id": "aXmNfzi3VMmh",
        "outputId": "1785bcca-8388-439a-d447-125eee940bf9"
      },
      "execution_count": null,
      "outputs": [
        {
          "output_type": "stream",
          "name": "stdout",
          "text": [
            "List of numbers: [1, 2, 3, 4, 5]\n"
          ]
        }
      ]
    },
    {
      "cell_type": "markdown",
      "source": [
        "7. Write a code to append the number 10 to the list [1, 2, 3, 4]."
      ],
      "metadata": {
        "id": "zDOCoWOOVVNJ"
      }
    },
    {
      "cell_type": "code",
      "source": [
        "numbers = [1, 2, 3, 4]\n",
        "\n",
        "numbers.append(10)\n",
        "\n",
        "print(\"Updated list:\", numbers)\n"
      ],
      "metadata": {
        "colab": {
          "base_uri": "https://localhost:8080/"
        },
        "id": "SZoO78R1VYe4",
        "outputId": "32ecbc5a-848d-4132-cada-df05acf76109"
      },
      "execution_count": null,
      "outputs": [
        {
          "output_type": "stream",
          "name": "stdout",
          "text": [
            "Updated list: [1, 2, 3, 4, 10]\n"
          ]
        }
      ]
    },
    {
      "cell_type": "markdown",
      "source": [
        "8. Write a code to remove the number 3 from the list [1, 2, 3, 4, 5]."
      ],
      "metadata": {
        "id": "19udf8rBVj9Y"
      }
    },
    {
      "cell_type": "code",
      "source": [
        "numbers = [1, 2, 3, 4, 5]\n",
        "\n",
        "numbers.remove(3)\n",
        "\n",
        "print(numbers)\n"
      ],
      "metadata": {
        "colab": {
          "base_uri": "https://localhost:8080/"
        },
        "id": "4rQ242oAVmmY",
        "outputId": "9d7b5459-5fb5-4349-b79c-0b944413f15a"
      },
      "execution_count": null,
      "outputs": [
        {
          "output_type": "stream",
          "name": "stdout",
          "text": [
            "[1, 2, 4, 5]\n"
          ]
        }
      ]
    },
    {
      "cell_type": "markdown",
      "source": [
        "9. Write a code to access the second element in the list ['a', 'b', 'c', 'd']."
      ],
      "metadata": {
        "id": "QgOUMenMVvLS"
      }
    },
    {
      "cell_type": "code",
      "source": [
        "letters = ['a', 'b', 'c', 'd']\n",
        "\n",
        "second_element = letters[1]\n",
        "\n",
        "print(\"Second element:\", second_element)\n"
      ],
      "metadata": {
        "colab": {
          "base_uri": "https://localhost:8080/"
        },
        "id": "qjsO7mnLVyBp",
        "outputId": "df8fdacb-f41d-4d67-85a0-d53d92815957"
      },
      "execution_count": null,
      "outputs": [
        {
          "output_type": "stream",
          "name": "stdout",
          "text": [
            "Second element: b\n"
          ]
        }
      ]
    },
    {
      "cell_type": "markdown",
      "source": [
        "10. Write a code to reverse the list [10, 20, 30, 40, 50]."
      ],
      "metadata": {
        "id": "1b9wDYlJV-tq"
      }
    },
    {
      "cell_type": "code",
      "source": [
        "numbers = [10, 20, 30, 40, 50]\n",
        "\n",
        "numbers.reverse()\n",
        "\n",
        "print(\"Reversed list:\", numbers)\n"
      ],
      "metadata": {
        "colab": {
          "base_uri": "https://localhost:8080/"
        },
        "id": "r2iM7h_7WB9B",
        "outputId": "b24e81e7-4ed9-41ad-d63b-7a9f7cf3e45d"
      },
      "execution_count": null,
      "outputs": [
        {
          "output_type": "stream",
          "name": "stdout",
          "text": [
            "Reversed list: [50, 40, 30, 20, 10]\n"
          ]
        }
      ]
    },
    {
      "cell_type": "markdown",
      "source": [
        "11. Write a code to create a tuple with the elements 100, 200, 300 and print it."
      ],
      "metadata": {
        "id": "WXb9odGUWI0Z"
      }
    },
    {
      "cell_type": "code",
      "source": [
        "my_tuple = (100, 200, 300)\n",
        "\n",
        "print(\"Tuple:\", my_tuple)\n"
      ],
      "metadata": {
        "colab": {
          "base_uri": "https://localhost:8080/"
        },
        "id": "cJXtx_saWL24",
        "outputId": "9d776588-1ee4-429d-b9f1-516e51a0bb0e"
      },
      "execution_count": null,
      "outputs": [
        {
          "output_type": "stream",
          "name": "stdout",
          "text": [
            "Tuple: (100, 200, 300)\n"
          ]
        }
      ]
    },
    {
      "cell_type": "markdown",
      "source": [
        "12. Write a code to access the second-to-last element of the tuple ('red', 'green', 'blue', 'yellow')."
      ],
      "metadata": {
        "id": "fRixNuR7WTFJ"
      }
    },
    {
      "cell_type": "code",
      "source": [
        "colors = ('red', 'green', 'blue', 'yellow')\n",
        "\n",
        "second_last = colors[-2]\n",
        "\n",
        "print(\"Second-to-last element:\", second_last)\n"
      ],
      "metadata": {
        "colab": {
          "base_uri": "https://localhost:8080/"
        },
        "id": "UQVatjVSWX-h",
        "outputId": "8048b425-60df-4010-feb9-a5557ff89ce4"
      },
      "execution_count": null,
      "outputs": [
        {
          "output_type": "stream",
          "name": "stdout",
          "text": [
            "Second-to-last element: blue\n"
          ]
        }
      ]
    },
    {
      "cell_type": "markdown",
      "source": [
        "13. Write a code to find the minimum number in the tuple (10, 20, 5, 15)"
      ],
      "metadata": {
        "id": "akq87L_YWgJh"
      }
    },
    {
      "cell_type": "code",
      "source": [
        "numbers = (10, 20, 5, 15)\n",
        "\n",
        "min_number = min(numbers)\n",
        "\n",
        "print(\"Minimum number:\", min_number)\n"
      ],
      "metadata": {
        "colab": {
          "base_uri": "https://localhost:8080/"
        },
        "id": "CYsFXqp9WiXJ",
        "outputId": "faa001f6-85e8-4421-a57b-f38815d400f5"
      },
      "execution_count": null,
      "outputs": [
        {
          "output_type": "stream",
          "name": "stdout",
          "text": [
            "Minimum number: 5\n"
          ]
        }
      ]
    },
    {
      "cell_type": "markdown",
      "source": [
        "14. Write a code to find the index of the element \"cat\" in the tuple ('dog', 'cat', 'rabbit')."
      ],
      "metadata": {
        "id": "tUa7zZK5WrNp"
      }
    },
    {
      "cell_type": "code",
      "source": [
        "animals = ('dog', 'cat', 'rabbit')\n",
        "\n",
        "index = animals.index('cat')\n",
        "\n",
        "print(\"Index of 'cat':\", index)"
      ],
      "metadata": {
        "colab": {
          "base_uri": "https://localhost:8080/"
        },
        "id": "wlFvQwXzWuBC",
        "outputId": "5102bfa1-13fd-464f-d844-69fe719fef3a"
      },
      "execution_count": null,
      "outputs": [
        {
          "output_type": "stream",
          "name": "stdout",
          "text": [
            "Index of 'cat': 1\n"
          ]
        }
      ]
    },
    {
      "cell_type": "markdown",
      "source": [
        "15. Write a code to create a tuple containing three different fruits and check if \"kiwi\" is in it."
      ],
      "metadata": {
        "id": "NlrR0a_AXAtl"
      }
    },
    {
      "cell_type": "code",
      "source": [
        "fruits = ('apple', 'banana', 'orange')\n",
        "\n",
        "if 'kiwi' in fruits:\n",
        "    print(\"Kiwi is in the tuple.\")\n",
        "else:\n",
        "    print(\"Kiwi is not in the tuple.\")\n"
      ],
      "metadata": {
        "colab": {
          "base_uri": "https://localhost:8080/"
        },
        "id": "vfGvpEY4XDIJ",
        "outputId": "4a9036d7-8d01-49be-a4af-7280e42c00e2"
      },
      "execution_count": null,
      "outputs": [
        {
          "output_type": "stream",
          "name": "stdout",
          "text": [
            "Kiwi is not in the tuple.\n"
          ]
        }
      ]
    },
    {
      "cell_type": "markdown",
      "source": [
        "16. Write a code to create a set with the elements 'a', 'b', 'c' and print it."
      ],
      "metadata": {
        "id": "flbA9GF2XPU7"
      }
    },
    {
      "cell_type": "code",
      "source": [
        "my_set = {'a','b','c'}\n",
        "\n",
        "print(my_set)\n"
      ],
      "metadata": {
        "colab": {
          "base_uri": "https://localhost:8080/"
        },
        "id": "EiUm3PIhXUWJ",
        "outputId": "26f0260e-f879-498c-8f65-d441aae2143b"
      },
      "execution_count": null,
      "outputs": [
        {
          "output_type": "stream",
          "name": "stdout",
          "text": [
            "{'b', 'a', 'c'}\n"
          ]
        }
      ]
    },
    {
      "cell_type": "markdown",
      "source": [
        "17. Write a code to clear all elements from the set {1, 2, 3, 4, 5}."
      ],
      "metadata": {
        "id": "pFW9UKYgXpCM"
      }
    },
    {
      "cell_type": "code",
      "source": [
        "my_set = {1, 2, 3, 4, 5}\n",
        "\n",
        "my_set.clear()\n",
        "\n",
        "print(my_set)\n"
      ],
      "metadata": {
        "colab": {
          "base_uri": "https://localhost:8080/"
        },
        "id": "xigOepKfXvfx",
        "outputId": "9e5ccdfe-7aaf-414e-81a1-726ab24b2292"
      },
      "execution_count": null,
      "outputs": [
        {
          "output_type": "stream",
          "name": "stdout",
          "text": [
            "set()\n"
          ]
        }
      ]
    },
    {
      "cell_type": "markdown",
      "source": [
        "18. Write a code to remove the element 4 from the set {1, 2, 3, 4}."
      ],
      "metadata": {
        "id": "yqWea7X6X92K"
      }
    },
    {
      "cell_type": "code",
      "source": [
        "my_set = {1, 2, 3, 4}\n",
        "\n",
        "my_set.remove(4)\n",
        "\n",
        "print(my_set)\n"
      ],
      "metadata": {
        "colab": {
          "base_uri": "https://localhost:8080/"
        },
        "id": "K8b9O8eXYA9a",
        "outputId": "dde499ef-1b12-42ab-ee32-b29b496e33fa"
      },
      "execution_count": null,
      "outputs": [
        {
          "output_type": "stream",
          "name": "stdout",
          "text": [
            "{1, 2, 3}\n"
          ]
        }
      ]
    },
    {
      "cell_type": "markdown",
      "source": [
        "19. Write a code to find the union of two sets {1, 2, 3} and {3, 4, 5}."
      ],
      "metadata": {
        "id": "c3QAzPOaYJT7"
      }
    },
    {
      "cell_type": "code",
      "source": [
        "set1 = {1, 2, 3}\n",
        "set2 = {3, 4, 5}\n",
        "\n",
        "union_set = set1.union(set2)\n",
        "\n",
        "print(\"Union of sets:\", union_set)\n"
      ],
      "metadata": {
        "colab": {
          "base_uri": "https://localhost:8080/"
        },
        "id": "D0to1dBCYLzD",
        "outputId": "1bbe7d47-d5d3-401f-a06b-3782b5c4430c"
      },
      "execution_count": null,
      "outputs": [
        {
          "output_type": "stream",
          "name": "stdout",
          "text": [
            "Union of sets: {1, 2, 3, 4, 5}\n"
          ]
        }
      ]
    },
    {
      "cell_type": "markdown",
      "source": [
        "20. Write a code to find the intersection of two sets {1, 2, 3} and {2, 3, 4}."
      ],
      "metadata": {
        "id": "pPGA56eBYRqL"
      }
    },
    {
      "cell_type": "code",
      "source": [
        "set1 = {1, 2, 3}\n",
        "set2 = {2, 3, 4}\n",
        "\n",
        "intersection_set = set1.intersection(set2)\n",
        "\n",
        "print(\"Intersection of sets:\", intersection_set)\n"
      ],
      "metadata": {
        "colab": {
          "base_uri": "https://localhost:8080/"
        },
        "id": "UOnQGw70YUPC",
        "outputId": "791aaab8-ddc7-4891-a276-5c7efe75a3e3"
      },
      "execution_count": null,
      "outputs": [
        {
          "output_type": "stream",
          "name": "stdout",
          "text": [
            "Intersection of sets: {2, 3}\n"
          ]
        }
      ]
    },
    {
      "cell_type": "markdown",
      "source": [
        "21. Write a code to create a dictionary with the keys \"name\", \"age\", and \"city\", and print it."
      ],
      "metadata": {
        "id": "X7DhytX1Y_tK"
      }
    },
    {
      "cell_type": "code",
      "source": [
        "person = {\n",
        "    \"name\": \"Souvik\",\n",
        "    \"age\": 21,\n",
        "    \"city\": \"Kolkata\"\n",
        "}\n",
        "\n",
        "print(\"Dictionary:\", person)\n"
      ],
      "metadata": {
        "colab": {
          "base_uri": "https://localhost:8080/"
        },
        "id": "DJmCPIy_ZCYC",
        "outputId": "e656b370-beb0-4368-de95-b0f02b52ac12"
      },
      "execution_count": null,
      "outputs": [
        {
          "output_type": "stream",
          "name": "stdout",
          "text": [
            "Dictionary: {'name': 'Souvik', 'age': 21, 'city': 'Kolkata'}\n"
          ]
        }
      ]
    },
    {
      "cell_type": "markdown",
      "source": [
        "22. Write a code to add a new key-value pair \"country\": \"USA\" to the dictionary {'name': 'John', 'age': 25}."
      ],
      "metadata": {
        "id": "b6geksBtZNNi"
      }
    },
    {
      "cell_type": "code",
      "source": [
        "person = {'name': 'John', 'age': 25}\n",
        "\n",
        "person['country'] = 'USA'\n",
        "\n",
        "print(\"Updated dictionary:\", person)\n"
      ],
      "metadata": {
        "colab": {
          "base_uri": "https://localhost:8080/"
        },
        "id": "oog0SINqZPrL",
        "outputId": "a1c5081a-da6c-4474-d2b1-366702015e49"
      },
      "execution_count": null,
      "outputs": [
        {
          "output_type": "stream",
          "name": "stdout",
          "text": [
            "Updated dictionary: {'name': 'John', 'age': 25, 'country': 'USA'}\n"
          ]
        }
      ]
    },
    {
      "cell_type": "markdown",
      "source": [
        "23. Write a code to access the value associated with the key \"name\" in the dictionary {'name': 'Alice', 'age': 30}."
      ],
      "metadata": {
        "id": "ZBiDE-wDZY7T"
      }
    },
    {
      "cell_type": "code",
      "source": [
        "person = {'name': 'Alice', 'age': 30}\n",
        "\n",
        "name_value = person['name']\n",
        "\n",
        "print(name_value)\n"
      ],
      "metadata": {
        "colab": {
          "base_uri": "https://localhost:8080/"
        },
        "id": "ko2HaPO3Zcsx",
        "outputId": "fed176b6-65e5-49d8-9549-7ff7e54ecb41"
      },
      "execution_count": null,
      "outputs": [
        {
          "output_type": "stream",
          "name": "stdout",
          "text": [
            "Alice\n"
          ]
        }
      ]
    },
    {
      "cell_type": "markdown",
      "source": [
        "24. Write a code to remove the key \"age\" from the dictionary {'name': 'Bob', 'age': 22, 'city': 'New York'}."
      ],
      "metadata": {
        "id": "TlZL_tNqZqxC"
      }
    },
    {
      "cell_type": "code",
      "source": [
        "person = {'name': 'Bob', 'age': 22, 'city': 'New York'}\n",
        "\n",
        "del person['age']\n",
        "\n",
        "print(person)\n"
      ],
      "metadata": {
        "colab": {
          "base_uri": "https://localhost:8080/"
        },
        "id": "uzZQKmBcZtqc",
        "outputId": "7804086c-69f3-40da-b5e5-ddaf3a7c9ae9"
      },
      "execution_count": null,
      "outputs": [
        {
          "output_type": "stream",
          "name": "stdout",
          "text": [
            "{'name': 'Bob', 'city': 'New York'}\n"
          ]
        }
      ]
    },
    {
      "cell_type": "markdown",
      "source": [
        "25. Write a code to check if the key \"city\" exists in the dictionary {'name': 'Alice', 'city': 'Paris'}."
      ],
      "metadata": {
        "id": "SknVUmImZ5Sq"
      }
    },
    {
      "cell_type": "code",
      "source": [
        "person = {'name': 'Alice', 'city': 'Paris'}\n",
        "\n",
        "if 'city' in person:\n",
        "    print(\"Key 'city' exists in the dictionary.\")\n",
        "else:\n",
        "    print(\"Key 'city' does not exist in the dictionary.\")\n"
      ],
      "metadata": {
        "colab": {
          "base_uri": "https://localhost:8080/"
        },
        "id": "MgBlQWHhZ73D",
        "outputId": "c4fb73ca-9375-44fc-c115-71fa26d5babb"
      },
      "execution_count": null,
      "outputs": [
        {
          "output_type": "stream",
          "name": "stdout",
          "text": [
            "Key 'city' exists in the dictionary.\n"
          ]
        }
      ]
    },
    {
      "cell_type": "markdown",
      "source": [
        "26. Write a code to create a list, a tuple, and a dictionary, and print them all."
      ],
      "metadata": {
        "id": "1eA9AghGaGba"
      }
    },
    {
      "cell_type": "code",
      "source": [
        "my_list = [1, 2, 3]\n",
        "\n",
        "my_tuple = ('apple', 'banana', 'cherry')\n",
        "\n",
        "my_dict = {'name': 'Souvik', 'age': 21, 'city': 'kolkata'}\n",
        "\n",
        "print(\"List:\", my_list)\n",
        "print(\"Tuple:\", my_tuple)\n",
        "print(\"Dictionary:\", my_dict)\n"
      ],
      "metadata": {
        "colab": {
          "base_uri": "https://localhost:8080/"
        },
        "id": "t0MgaUKuaIOa",
        "outputId": "fa2d7a79-9c60-42c2-f94e-3a9810811ab7"
      },
      "execution_count": null,
      "outputs": [
        {
          "output_type": "stream",
          "name": "stdout",
          "text": [
            "List: [1, 2, 3]\n",
            "Tuple: ('apple', 'banana', 'cherry')\n",
            "Dictionary: {'name': 'Souvik', 'age': 21, 'city': 'kolkata'}\n"
          ]
        }
      ]
    },
    {
      "cell_type": "markdown",
      "source": [
        "27. Write a code to create a list of 5 random numbers between 1 and 100, sort it in ascending order, and print the\n",
        "result.(replaced)"
      ],
      "metadata": {
        "id": "Ept0H1kUaZe7"
      }
    },
    {
      "cell_type": "code",
      "source": [
        "random_numbers = random.sample(range(1, 101), 5)\n",
        "\n",
        "random_numbers.sort()\n",
        "\n",
        "print(\"Sorted random numbers:\", random_numbers)\n"
      ],
      "metadata": {
        "colab": {
          "base_uri": "https://localhost:8080/"
        },
        "id": "9Q-E62e1ac7b",
        "outputId": "1cb73cc4-1fe8-4c3f-feb0-545fee5b3b91"
      },
      "execution_count": null,
      "outputs": [
        {
          "output_type": "stream",
          "name": "stdout",
          "text": [
            "Sorted random numbers: [7, 42, 47, 63, 78]\n"
          ]
        }
      ]
    },
    {
      "cell_type": "markdown",
      "source": [
        "28. Write a code to create a list with strings and print the element at the third index."
      ],
      "metadata": {
        "id": "XOUzM3Tmapfz"
      }
    },
    {
      "cell_type": "code",
      "source": [
        "fruits = [\"apple\", \"banana\", \"cherry\", \"date\", \"elderberry\"]\n",
        "\n",
        "print(fruits[3])\n"
      ],
      "metadata": {
        "colab": {
          "base_uri": "https://localhost:8080/"
        },
        "id": "5QmohOkRasy7",
        "outputId": "05aad95b-2e13-41fd-ffee-09bc6d2ec282"
      },
      "execution_count": null,
      "outputs": [
        {
          "output_type": "stream",
          "name": "stdout",
          "text": [
            "date\n"
          ]
        }
      ]
    },
    {
      "cell_type": "markdown",
      "source": [
        "29. Write a code to combine two dictionaries into one and print the result."
      ],
      "metadata": {
        "id": "ceQPnLJ7a5Zj"
      }
    },
    {
      "cell_type": "code",
      "source": [
        "dict1 = {'a': 1, 'b': 2}\n",
        "dict2 = {'c': 3, 'd': 4}\n",
        "\n",
        "combined_dict = {**dict1, **dict2}\n",
        "\n",
        "print(\"Combined dictionary:\", combined_dict)\n"
      ],
      "metadata": {
        "colab": {
          "base_uri": "https://localhost:8080/"
        },
        "id": "9Fio-6o1a7NK",
        "outputId": "5cac4bf0-5d5d-4bf7-ae8a-d331ee902178"
      },
      "execution_count": null,
      "outputs": [
        {
          "output_type": "stream",
          "name": "stdout",
          "text": [
            "Combined dictionary: {'a': 1, 'b': 2, 'c': 3, 'd': 4}\n"
          ]
        }
      ]
    },
    {
      "cell_type": "markdown",
      "source": [
        "30. Write a code to convert a list of strings into a set."
      ],
      "metadata": {
        "id": "E87inOIEbCg0"
      }
    },
    {
      "cell_type": "code",
      "source": [
        "fruits = [\"apple\", \"banana\", \"cherry\", \"apple\", \"banana\"]\n",
        "\n",
        "fruit_set = set(fruits)\n",
        "\n",
        "print(\"Set:\", fruit_set)\n"
      ],
      "metadata": {
        "colab": {
          "base_uri": "https://localhost:8080/"
        },
        "id": "-OHBJTCFbEV6",
        "outputId": "8fd08013-300f-4ff6-8cd4-f1647ce43a1c"
      },
      "execution_count": null,
      "outputs": [
        {
          "output_type": "stream",
          "name": "stdout",
          "text": [
            "Set: {'apple', 'cherry', 'banana'}\n"
          ]
        }
      ]
    }
  ]
}